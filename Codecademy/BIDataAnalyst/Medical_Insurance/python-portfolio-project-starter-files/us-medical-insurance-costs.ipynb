{
 "cells": [
  {
   "cell_type": "markdown",
   "metadata": {},
   "source": [
    "# U.S. Medical Insurance Costs"
   ]
  },
  {
   "attachments": {},
   "cell_type": "markdown",
   "metadata": {},
   "source": [
    "Project Goals:\n",
    "- Measuring metrics:\n",
    "    - Avg. BMI per Region\n",
    "    - Cost and Avg. Cost by Region\n",
    "    - Total # of people and avg. cost by age bracket [0-10, 11-20, 21-30, 31-40, 41-50, 51-60, 60+]\n",
    "    - How does the avg. cost change if you were a male/female-smoker/non-smoker?"
   ]
  },
  {
   "attachments": {},
   "cell_type": "markdown",
   "metadata": {},
   "source": [
    "Preliminary Step:\n",
    "+ Import the librarie(s)"
   ]
  },
  {
   "cell_type": "code",
   "execution_count": 1,
   "metadata": {},
   "outputs": [],
   "source": [
    "import csv"
   ]
  },
  {
   "attachments": {},
   "cell_type": "markdown",
   "metadata": {},
   "source": [
    "BP#1:\n",
    "Avg. BMI per Region"
   ]
  },
  {
   "cell_type": "code",
   "execution_count": 153,
   "metadata": {},
   "outputs": [
    {
     "name": "stdout",
     "output_type": "stream",
     "text": [
      "Avg. BMI per Region: {'southwest': 30.597, 'southeast': 33.356, 'northwest': 29.2, 'northeast': 29.174}\n"
     ]
    }
   ],
   "source": [
    "with open('insurance.csv',newline='') as insurance_csv:\n",
    "    insurance_data_read = csv.DictReader(insurance_csv,delimiter=',')\n",
    "    # print(list(insurance_data_read))\n",
    "    total_bmi = 0\n",
    "    region_count = dict()\n",
    "    region_bmi_total = dict()\n",
    "    region_avg_bmi = dict()\n",
    "    \n",
    "\n",
    "    for row in insurance_data_read:\n",
    "        \n",
    "        # region_count        \n",
    "        region = row['region']\n",
    "        if region not in region_count:\n",
    "            region_count[region] = 1.0\n",
    "        else:\n",
    "            region_count[region] += 1.0\n",
    "    # region_count = {'southwest': 325, 'southeast': 364, 'northwest': 325, 'northeast': 324}\n",
    "    \n",
    "        # total_bmi_per_region\n",
    "        region_bmi_data = float(row['bmi'])\n",
    "        if region not in region_bmi_total:\n",
    "            region_bmi_total[region] = region_bmi_data\n",
    "        else:\n",
    "            region_bmi_total[region] += region_bmi_data\n",
    "    # region_bmi_total = {'southwest': 9943.899999999998, 'southeast': 12141.580000000005, 'northwest': 9489.930000000004, 'northeast': 9452.215000000002}\n",
    "        \n",
    "        # region_avg_bmi\n",
    "        if region in region_bmi_total:\n",
    "            region_avg_bmi[region] = round(region_bmi_total[region]/region_count[region],3)\n",
    "    print(f\"Avg. BMI per Region: {region_avg_bmi}\")\n",
    "    # region_avg_bmi = {'southwest': 30.51076923076923, 'southeast': 33.2632142857143, 'northwest': 29.129923076923088, 'northeast': 29.081435185185185}"
   ]
  },
  {
   "attachments": {},
   "cell_type": "markdown",
   "metadata": {},
   "source": [
    "BP#2: Cost and Avg. Cost by Region"
   ]
  },
  {
   "cell_type": "code",
   "execution_count": 189,
   "metadata": {},
   "outputs": [
    {
     "name": "stdout",
     "output_type": "stream",
     "text": [
      "The cost per region is:         {'southwest': 4012754.647620001, 'southeast': 5363689.763290002, 'northwest': 4035711.9965399993, 'northeast': 4343668.583308999}\n",
      "The avg. cost per region is:    {'southwest': 12346.93737729231, 'southeast': 14735.411437609895, 'northwest': 12417.575373969228, 'northeast': 13406.3845163858}\n"
     ]
    }
   ],
   "source": [
    "with open('insurance.csv',newline='') as insurance_csv:\n",
    "    insurance_data = csv.DictReader(insurance_csv,delimiter=',')\n",
    "    \n",
    "    # dictionaries \n",
    "    region_ins_cost = dict()\n",
    "    region_count = dict()\n",
    "    region_avg_cost = dict()\n",
    "    \n",
    "    # set-up\n",
    "    for row in insurance_data:\n",
    "        region = row['region']\n",
    "        cost = row['charges']\n",
    "                \n",
    "        # region_ins_cost\n",
    "        if region not in region_ins_cost:\n",
    "            region_ins_cost[region] = float(cost)\n",
    "        else:\n",
    "            region_ins_cost[region] += float(cost)\n",
    "            \n",
    "        # region_count\n",
    "        if region not in region_count:\n",
    "            region_count[region] = 1.0\n",
    "        else:\n",
    "            region_count[region] += 1.0\n",
    "    # The total count per region is: {'southwest': 325.0, 'southeast': 364.0, 'northwest': 325.0, 'northeast': 324.0}\n",
    "    \n",
    "        # region_avg_cost\n",
    "        if region in region_count:\n",
    "            region_avg_cost[region] = region_ins_cost[region]/region_count[region]\n",
    "    \n",
    "    # print final results\n",
    "    print(f\"The cost per region is:         {region_ins_cost}\")\n",
    "    print(f\"The avg. cost per region is:    {region_avg_cost}\") \n",
    "    \n",
    "    \n",
    "            "
   ]
  },
  {
   "attachments": {},
   "cell_type": "markdown",
   "metadata": {},
   "source": [
    "BP#3: Total # of people and avg. cost by age bracket [0-10, 11-20, 21-30, 31-40, 41-50, 51-60, 60+]"
   ]
  },
  {
   "cell_type": "code",
   "execution_count": 235,
   "metadata": {},
   "outputs": [
    {
     "name": "stdout",
     "output_type": "stream",
     "text": [
      "Age brackets: {'0-10': 0, '11-20': 166, '21-30': 278, '31-40': 257, '41-50': 281, '51-60': 265, '60+': 91}\n",
      "Total cost per age bracket: {'0-10': 0, '11-20': 1446438.0804889998, '21-30': 2726075.0303699994, '31-40': 2991302.3238600004, '41-50': 4153754.1046699993, '51-60': 4521507.582159999, '60+': 1916747.86921}\n",
      "Avg. cost per age bracket: {'0-10': 0, '11-20': 8713.482412584337, '21-30': 9806.025289100717, '31-40': 11639.308653151753, '41-50': 14782.043077117436, '51-60': 17062.29276286792, '60+': 21063.163397912085}\n"
     ]
    }
   ],
   "source": [
    "with open('insurance.csv',newline='') as insurance_csv:\n",
    "    insurance_data = csv.DictReader(insurance_csv)\n",
    "    \n",
    "    # dictionaries\n",
    "    age_count_bracket = {'0-10':0, '11-20':0, '21-30':0, '31-40':0, '41-50':0, '51-60':0, '60+':0}\n",
    "    age_cost_total = {'0-10':0, '11-20':0, '21-30':0, '31-40':0, '41-50':0, '51-60':0, '60+':0}\n",
    "    avg_cost_age_bracket = {'0-10':0, '11-20':0, '21-30':0, '31-40':0, '41-50':0, '51-60':0, '60+':0}\n",
    "    bracket = {'0-10':0, '11-20':0, '21-30':0, '31-40':0, '41-50':0, '51-60':0, '60+':0}\n",
    "        \n",
    "    # set-up\n",
    "    for row in insurance_data:\n",
    "        age_str = row['age']\n",
    "        age = int(age_str)\n",
    "        cost = row['charges']\n",
    "        \n",
    "        # age_count_bracket & age_cost_total\n",
    "        if age >= 0 and age <= 10:\n",
    "            age_count_bracket['0-10'] += 1\n",
    "            age_cost_total['0-10'] += float(cost)\n",
    "            avg_cost_age_bracket['0-10'] = age_cost_total['0-10']/age_count_bracket['0-10']\n",
    "        elif age >= 11 and age <= 20:\n",
    "            age_count_bracket['11-20'] += 1\n",
    "            age_cost_total['11-20'] += float(cost)\n",
    "            avg_cost_age_bracket['11-20'] = age_cost_total['11-20']/age_count_bracket['11-20']\n",
    "        elif age >=21 and age <= 30:\n",
    "            age_count_bracket['21-30'] += 1\n",
    "            age_cost_total['21-30'] += float(cost)\n",
    "            avg_cost_age_bracket['21-30'] = age_cost_total['21-30']/age_count_bracket['21-30']\n",
    "        elif age >= 31 and age <= 40:\n",
    "            age_count_bracket['31-40'] += 1\n",
    "            age_cost_total['31-40'] += float(cost)\n",
    "            avg_cost_age_bracket['31-40'] = age_cost_total['31-40']/age_count_bracket['31-40']\n",
    "        elif age >= 41 and age <= 50:\n",
    "            age_count_bracket['41-50'] += 1\n",
    "            age_cost_total['41-50'] += float(cost)\n",
    "            avg_cost_age_bracket['41-50'] = age_cost_total['41-50']/age_count_bracket['41-50']\n",
    "        elif age >= 51 and age <= 60:\n",
    "            age_count_bracket['51-60'] += 1\n",
    "            age_cost_total['51-60'] += float(cost)\n",
    "            avg_cost_age_bracket['51-60'] = age_cost_total['51-60']/age_count_bracket['51-60']\n",
    "        else:\n",
    "            age_count_bracket['60+'] += 1\n",
    "            age_cost_total['60+'] += float(cost)\n",
    "            avg_cost_age_bracket['60+'] = age_cost_total['60+']/age_count_bracket['60+']\n",
    "\n",
    "    print(f\"Age brackets: {age_count_bracket}\")\n",
    "    print(f\"Total cost per age bracket: {age_cost_total}\")\n",
    "    print(f\"Avg. cost per age bracket: {avg_cost_age_bracket}\")\n",
    "\n",
    "        \n",
    "            \n",
    "    "
   ]
  },
  {
   "attachments": {},
   "cell_type": "markdown",
   "metadata": {},
   "source": [
    "BP#4: How does the avg. cost change if you were a male/female-smoker/non-smoker?"
   ]
  },
  {
   "cell_type": "code",
   "execution_count": 251,
   "metadata": {},
   "outputs": [
    {
     "name": "stdout",
     "output_type": "stream",
     "text": [
      "sex     smoker\n",
      "female  no         8762.30\n",
      "        yes       30679.00\n",
      "male    no         8087.20\n",
      "        yes       33042.01\n",
      "Name: charges, dtype: float64\n"
     ]
    }
   ],
   "source": [
    "import pandas as pd\n",
    "\n",
    "# read the CSV file into a pandas DataFrame\n",
    "dataframe = pd.read_csv('insurance.csv')\n",
    "\n",
    "# group the data by age, gender, and smoking status\n",
    "groups = dataframe.groupby(['sex', 'smoker'])\n",
    "\n",
    "# calculate the average cost within each group\n",
    "avg_costs = groups['charges'].mean()\n",
    "\n",
    "# print the results\n",
    "print(round(avg_costs,2))"
   ]
  }
 ],
 "metadata": {
  "kernelspec": {
   "display_name": "Python 3",
   "language": "python",
   "name": "python3"
  },
  "language_info": {
   "codemirror_mode": {
    "name": "ipython",
    "version": 3
   },
   "file_extension": ".py",
   "mimetype": "text/x-python",
   "name": "python",
   "nbconvert_exporter": "python",
   "pygments_lexer": "ipython3",
   "version": "3.11.2"
  }
 },
 "nbformat": 4,
 "nbformat_minor": 4
}
